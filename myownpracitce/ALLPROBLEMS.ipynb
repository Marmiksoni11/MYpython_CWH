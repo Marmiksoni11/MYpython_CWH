{
 "cells": [
  {
   "cell_type": "code",
   "execution_count": 1,
   "metadata": {},
   "outputs": [
    {
     "name": "stdout",
     "output_type": "stream",
     "text": [
      "Twinkle, twinkle, little star\n",
      "How I wonder what you are\n",
      "Up above the world so high\n",
      "Like a diamond in the sky\n"
     ]
    }
   ],
   "source": [
    "#chapter 1 pr 1 Twinkle\n",
    "\n",
    "poem = '''Twinkle, twinkle, little star\n",
    "How I wonder what you are\n",
    "Up above the world so high\n",
    "Like a diamond in the sky'''\n",
    "\n",
    "print(poem)"
   ]
  },
  {
   "cell_type": "code",
   "execution_count": 4,
   "metadata": {},
   "outputs": [
    {
     "ename": "ValueError",
     "evalue": "invalid literal for int() with base 10: ''",
     "output_type": "error",
     "traceback": [
      "\u001b[1;31m---------------------------------------------------------------------------\u001b[0m",
      "\u001b[1;31mValueError\u001b[0m                                Traceback (most recent call last)",
      "Cell \u001b[1;32mIn [4], line 2\u001b[0m\n\u001b[0;32m      1\u001b[0m \u001b[39m#c1pr2 Table \u001b[39;00m\n\u001b[1;32m----> 2\u001b[0m a \u001b[39m=\u001b[39m \u001b[39mint\u001b[39;49m(\u001b[39minput\u001b[39;49m(\u001b[39m\"\u001b[39;49m\u001b[39mEnter the table: \u001b[39;49m\u001b[39m\"\u001b[39;49m))\n\u001b[0;32m      3\u001b[0m \u001b[39mfor\u001b[39;00m i \u001b[39min\u001b[39;00m \u001b[39mrange\u001b[39m(\u001b[39m1\u001b[39m,\u001b[39m11\u001b[39m):\n\u001b[0;32m      4\u001b[0m     \u001b[39mprint\u001b[39m(a\u001b[39m*\u001b[39mi)\n",
      "\u001b[1;31mValueError\u001b[0m: invalid literal for int() with base 10: ''"
     ]
    }
   ],
   "source": [
    "#ch1 pr2 Table \n",
    "a = int(input(\"Enter the table: \"))\n",
    "for i in range(1,11):\n",
    "    print(a*i)"
   ]
  },
  {
   "cell_type": "code",
   "execution_count": 5,
   "metadata": {},
   "outputs": [
    {
     "name": "stdout",
     "output_type": "stream",
     "text": [
      "['.vscode', 'college', 'mychapter1', 'mychapter10', 'mychapter2', 'mychapter3', 'mychapter4', 'mychapter5', 'mychapter6', 'mychapter7', 'mychapter8', 'mychapter9', 'myownpracitce', 'projects', 'tables', 'text files']\n"
     ]
    }
   ],
   "source": [
    "import os\n",
    "print (os.listdir())"
   ]
  },
  {
   "cell_type": "code",
   "execution_count": 6,
   "metadata": {},
   "outputs": [
    {
     "name": "stdout",
     "output_type": "stream",
     "text": [
      "30\n"
     ]
    }
   ],
   "source": [
    "#Chapter 2 pr 1\n",
    "a = 10 \n",
    "b = 20\n",
    "print(a+b)"
   ]
  },
  {
   "cell_type": "code",
   "execution_count": 3,
   "metadata": {},
   "outputs": [
    {
     "name": "stdout",
     "output_type": "stream",
     "text": [
      "2\n",
      "<class 'int'>\n"
     ]
    }
   ],
   "source": [
    "#Chapter 2 pr 2,3\n",
    "a = int(input(\"Enter 1st num: \"))\n",
    "b = int(input(\"Enter 2nd num: \"))\n",
    "\n",
    "print(a%b)\n",
    "print(type(a))"
   ]
  },
  {
   "cell_type": "code",
   "execution_count": 6,
   "metadata": {},
   "outputs": [
    {
     "name": "stdout",
     "output_type": "stream",
     "text": [
      "False\n"
     ]
    }
   ],
   "source": [
    "#Chapter 2 pr 4\n",
    "# a = 34\n",
    "# b = 80\n",
    "# if a>b:\n",
    "#     print(\"a is greater\")\n",
    "# else:\n",
    "#     print(\"b is greater\")\n",
    "\n",
    "a = 34\n",
    "b = 80\n",
    "print(a>b)\n"
   ]
  },
  {
   "cell_type": "code",
   "execution_count": 7,
   "metadata": {},
   "outputs": [
    {
     "name": "stdout",
     "output_type": "stream",
     "text": [
      "12.5\n"
     ]
    }
   ],
   "source": [
    "#Chapter 2 pr 5 average\n",
    "a = int(input(\"Enter 1st num: \"))\n",
    "b = int(input(\"Enter 2nd num: \"))\n",
    "print((a+b)/2)"
   ]
  },
  {
   "cell_type": "code",
   "execution_count": 8,
   "metadata": {},
   "outputs": [
    {
     "name": "stdout",
     "output_type": "stream",
     "text": [
      "25\n"
     ]
    }
   ],
   "source": [
    "#Chapter 2 pr 6\n",
    "a = int(input(\"Enter 1st num: \"))\n",
    "print(a**2)"
   ]
  },
  {
   "cell_type": "code",
   "execution_count": 11,
   "metadata": {},
   "outputs": [
    {
     "name": "stdout",
     "output_type": "stream",
     "text": [
      "Good Afternoon! Marmik\n"
     ]
    }
   ],
   "source": [
    "#Chapter 3 pr 1\n",
    "Name = input(\"Enter your name: \")\n",
    "print(\"Good Afternoon! \" + Name)\n",
    "\n"
   ]
  },
  {
   "cell_type": "code",
   "execution_count": 14,
   "metadata": {},
   "outputs": [
    {
     "name": "stdout",
     "output_type": "stream",
     "text": [
      "Dear, Marmik,\n",
      " You Are Selected! 25\n"
     ]
    }
   ],
   "source": [
    "#Chapter 3 pr 2\n",
    "name = input(\"Enter Your Name: \")\n",
    "date = int(input(\"Enter date: \"))\n",
    "print(f'''Dear, {name},\\n You Are Selected! \\n {date}''')"
   ]
  },
  {
   "cell_type": "code",
   "execution_count": 18,
   "metadata": {},
   "outputs": [
    {
     "name": "stdout",
     "output_type": "stream",
     "text": [
      "Dear, Marmik Soni ,\n",
      "You have Been selected! \n",
      "25th jan 2022\n"
     ]
    }
   ],
   "source": [
    "#chapter 3 pr 2\n",
    "letter = '''Dear, <|NAME|>,\n",
    "You have Been selected! \n",
    "<|DATE|>'''\n",
    "\n",
    "name = input(\"ENter Name: \")\n",
    "date = input(\"Enter date: \")\n",
    "\n",
    "letter = letter.replace(\"<|NAME|>\", name.title())\n",
    "letter = letter.replace(\"<|DATE|>\", date)\n",
    "\n",
    "print(letter)"
   ]
  },
  {
   "cell_type": "code",
   "execution_count": 22,
   "metadata": {},
   "outputs": [
    {
     "name": "stdout",
     "output_type": "stream",
     "text": [
      "m  m  m  m  m m m m m m m \n",
      "double space is at index 1\n",
      "there are 4 double spaces.\n",
      "The final string after replacing Double spaces: \n",
      " m m m m m m m m m m m \n"
     ]
    }
   ],
   "source": [
    "#chapter 3 pr 3,4\n",
    "strng = input(\"Enter string: \")\n",
    "a = strng.find(\"  \")\n",
    "b = strng.count(\"  \")\n",
    "\n",
    "print(strng)\n",
    "print(\"double space is at index\", a)\n",
    "print(f\"there are {b} double spaces.\")\n",
    "\n",
    "c = strng.replace(\"  \",\" \")\n",
    "print(f\"The final string after replacing Double spaces: \\n{c}\")"
   ]
  },
  {
   "cell_type": "code",
   "execution_count": 24,
   "metadata": {},
   "outputs": [
    {
     "name": "stdout",
     "output_type": "stream",
     "text": [
      "Dear Harry,\n",
      "\t This Python course is nice.\n",
      "Thanks!\n"
     ]
    }
   ],
   "source": [
    "#chapter 3 pr 5 \n",
    "letter = \"Dear Harry,\\n\\t This Python course is nice.\\nThanks!\"\n",
    "print(letter)"
   ]
  },
  {
   "cell_type": "code",
   "execution_count": 27,
   "metadata": {},
   "outputs": [
    {
     "name": "stdout",
     "output_type": "stream",
     "text": [
      "['ll', 'll', 'll', 'll', 'll', 'll', 'll']\n"
     ]
    }
   ],
   "source": [
    "#chapter 4 pr 1\n",
    "fruits = []\n",
    "for i in range(1,8):\n",
    "    a = input(f\"Enter the fruit {i}: \")\n",
    "    fruits.append(a)\n",
    "\n",
    "print(fruits)"
   ]
  },
  {
   "cell_type": "code",
   "execution_count": 30,
   "metadata": {},
   "outputs": [
    {
     "name": "stdout",
     "output_type": "stream",
     "text": [
      "[2, 10, 12, 23, 23, 43]\n"
     ]
    }
   ],
   "source": [
    "#chapter 4 pr 2\n",
    "lst = []\n",
    "for i in range(1,7):\n",
    "    marks = int(input(f\"enter marks of student {i}: \"))\n",
    "    lst.append(marks)\n",
    "\n",
    "lst.sort()\n",
    "print(lst)"
   ]
  },
  {
   "cell_type": "code",
   "execution_count": 31,
   "metadata": {},
   "outputs": [
    {
     "name": "stdout",
     "output_type": "stream",
     "text": [
      "(1, 3, 4, 5, 6)\n"
     ]
    },
    {
     "ename": "TypeError",
     "evalue": "'tuple' object does not support item assignment",
     "output_type": "error",
     "traceback": [
      "\u001b[1;31m---------------------------------------------------------------------------\u001b[0m",
      "\u001b[1;31mTypeError\u001b[0m                                 Traceback (most recent call last)",
      "Cell \u001b[1;32mIn [31], line 4\u001b[0m\n\u001b[0;32m      2\u001b[0m a \u001b[39m=\u001b[39m (\u001b[39m1\u001b[39m,\u001b[39m3\u001b[39m,\u001b[39m4\u001b[39m,\u001b[39m5\u001b[39m,\u001b[39m6\u001b[39m)\n\u001b[0;32m      3\u001b[0m \u001b[39mprint\u001b[39m(a)\n\u001b[1;32m----> 4\u001b[0m a[\u001b[39m0\u001b[39;49m] \u001b[39m=\u001b[39m \u001b[39m23\u001b[39m\n\u001b[0;32m      5\u001b[0m \u001b[39mprint\u001b[39m(a) \n",
      "\u001b[1;31mTypeError\u001b[0m: 'tuple' object does not support item assignment"
     ]
    }
   ],
   "source": [
    "#chapter 4 pr 3\n",
    "a = (1,3,4,5,6)\n",
    "print(a)\n",
    "a[0] = 23\n",
    "print(a) "
   ]
  },
  {
   "cell_type": "code",
   "execution_count": 34,
   "metadata": {},
   "outputs": [
    {
     "name": "stdout",
     "output_type": "stream",
     "text": [
      "10\n"
     ]
    }
   ],
   "source": [
    "#chapter 4 pr 4\n",
    "lst = [1,2,3,4]\n",
    "b = (lst[0]+lst[1]+lst[2]+lst[3])\n",
    "print(b)"
   ]
  },
  {
   "cell_type": "code",
   "execution_count": 36,
   "metadata": {},
   "outputs": [
    {
     "name": "stdout",
     "output_type": "stream",
     "text": [
      "6\n"
     ]
    }
   ],
   "source": [
    "#chapter 4 pr 5\n",
    "a = (\"marmik is a student of it his iu is IU2041220090\")\n",
    "print(a.count(\"i\"))"
   ]
  },
  {
   "cell_type": "code",
   "execution_count": 39,
   "metadata": {},
   "outputs": [
    {
     "name": "stdout",
     "output_type": "stream",
     "text": [
      "The options are:  dict_keys(['pankha', 'pagal', 'kabat', 'darwaza'])\n",
      "the translation is: stupid\n"
     ]
    }
   ],
   "source": [
    "#chapter 5 pr 1\n",
    "hindi = {\"pankha\" : \"Fan\",\n",
    "\"pagal\" : \"stupid\",\n",
    "\"kabat\" : \"cupboard\",\n",
    "\"darwaza\" : \"door\"} \n",
    "# print(hindi)\n",
    "#menu for user\n",
    "print(\"The options are: \", hindi.keys())\n",
    "word = input(\"Enter the word you want: \")\n",
    "print(f\"the translation is: {hindi.get(word)}\")\n",
    "\n",
    "\n"
   ]
  },
  {
   "cell_type": "code",
   "execution_count": 45,
   "metadata": {},
   "outputs": [
    {
     "name": "stdout",
     "output_type": "stream",
     "text": [
      "<class 'set'>\n",
      "{1, 2, 3, 5, 6, 7, 44}\n"
     ]
    }
   ],
   "source": [
    "#chapter 5 pr 2\n",
    "#it says unique means its a set\n",
    "a1 = int(input(\"Enter the 1 number: \"))\n",
    "a2 = int(input(\"Enter the 2 number: \"))\n",
    "a3 = int(input(\"Enter the 3 number: \"))\n",
    "a4 = int(input(\"Enter the 4 number: \"))\n",
    "a5 = int(input(\"Enter the 5 number: \"))\n",
    "a6 = int(input(\"Enter the 6 number: \"))\n",
    "a7 = int(input(\"Enter the 7 number: \"))\n",
    "a8 = int(input(\"Enter the 8 number: \"))\n",
    "\n",
    "b = {a1,a2,a3,a4,a5,a6,a7,a8}\n",
    "print(type(b))\n",
    "print(b)\n"
   ]
  },
  {
   "cell_type": "code",
   "execution_count": 49,
   "metadata": {},
   "outputs": [
    {
     "name": "stdout",
     "output_type": "stream",
     "text": [
      "{1, 2, 3}\n",
      "<class 'set'>\n"
     ]
    }
   ],
   "source": [
    "#chapter 5 pr 2 using for loop\n",
    "a = set()\n",
    "for i in range(1,4):\n",
    "    num = int(input(f\"Enter {i} Number: \"))\n",
    "    a.add(num)\n",
    " \n",
    "print(a)\n",
    "print(type(a))"
   ]
  },
  {
   "cell_type": "code",
   "execution_count": 50,
   "metadata": {},
   "outputs": [
    {
     "name": "stdout",
     "output_type": "stream",
     "text": [
      "<class 'set'>\n",
      "{18, '18'}\n"
     ]
    }
   ],
   "source": [
    "#chapter 5 pr 3\n",
    "a = {18,\"18\"}\n",
    "print(type(a))\n",
    "print(a)\n",
    "\n",
    "'answer = yes we can have a set wiht multiple data types'"
   ]
  },
  {
   "cell_type": "code",
   "execution_count": 56,
   "metadata": {},
   "outputs": [
    {
     "name": "stdout",
     "output_type": "stream",
     "text": [
      "3\n",
      "{19.1, 20.0, '20'}\n"
     ]
    }
   ],
   "source": [
    "#chapter 5 pr 4\n",
    "s = set()\n",
    "s.add(19.1)\n",
    "s.add(20.0) # in set anything .0 is not a float but an int\n",
    "s.add(20.0) # takes both 20.0 as one as it is a set\n",
    "s.add(\"20\")\n",
    "print(len(s)) #hence len of s is 3 instead of 4\n",
    "print(s)"
   ]
  },
  {
   "cell_type": "code",
   "execution_count": 57,
   "metadata": {},
   "outputs": [
    {
     "name": "stdout",
     "output_type": "stream",
     "text": [
      "<class 'dict'>\n"
     ]
    }
   ],
   "source": [
    "#chapter 5 pr 5\n",
    "s = {}\n",
    "print(type(s))"
   ]
  },
  {
   "cell_type": "code",
   "execution_count": 6,
   "metadata": {},
   "outputs": [
    {
     "name": "stdout",
     "output_type": "stream",
     "text": [
      "{'marmik': ('english', 'sanskrit'), 'krish': 'hindi', 'kavya': 'sanskrit', 'Mahi': 'pyhton'}\n"
     ]
    }
   ],
   "source": [
    "#chapter 5 pr 6,7,8\n",
    "mydict = {}\n",
    "a = input(\"Enter your fav lang Marmik : \")\n",
    "b = input(\"Enter your fav lang krish : \")\n",
    "c = input(\"Enter your fav lang kavya : \")\n",
    "d = input(\"Enter your fav lang Mahi : \")\n",
    "\n",
    "mydict[\"marmik\"] = a,\"sanskrit\"\n",
    "mydict[\"krish\"] = b\n",
    "mydict[\"kavya\"] = c\n",
    "mydict[\"Mahi\"] = d\n",
    "\n",
    "print(mydict)\n",
    "\n",
    "7#if names of friends are same it will take both inputs but will neglect the previous one and overwrite with the next\n",
    "8#if the langs are same it doesnt matter (values can be same but not keys)\n"
   ]
  },
  {
   "cell_type": "code",
   "execution_count": 8,
   "metadata": {},
   "outputs": [
    {
     "name": "stdout",
     "output_type": "stream",
     "text": [
      "{(1, 2), 'harry', 7, 8, 12}\n"
     ]
    }
   ],
   "source": [
    "#chapter 5 pr 9\n",
    "# s = {8,7,1,2,\"harry\",[1,2]}\n",
    "# s[5] = [2,3]\n",
    "# print(s)\n",
    "' NO !'\n",
    "\n",
    "'as a list cant be stored in a set' \n",
    "\n",
    "'hashable = unchangable, list is unhashable/changable'\n",
    "\n",
    "'you can add tuple but you cant change it as tuple is hashable/unchangable'\n",
    "\n",
    "a = {8,7,12,\"harry\",(1,2)}\n",
    "print(a)"
   ]
  },
  {
   "cell_type": "code",
   "execution_count": 12,
   "metadata": {},
   "outputs": [
    {
     "name": "stdout",
     "output_type": "stream",
     "text": [
      "1st number is 23\n",
      "2nd number is 43\n",
      "3rd number is 12\n",
      "4th number is 90\n",
      "90 is the greatest of all.\n"
     ]
    }
   ],
   "source": [
    "#chapter 6 pr 1\n",
    "num1 = int(input(\"Enter 1 number: \"))\n",
    "print(f\"1st number is {num1}\")\n",
    "\n",
    "num2 = int(input(\"Enter 2 number: \"))\n",
    "print(f\"2nd number is {num2}\")\n",
    "\n",
    "num3 = int(input(\"Enter 3 number: \"))\n",
    "print(f\"3rd number is {num3}\")\n",
    "\n",
    "num4 = int(input(\"Enter 4 number: \"))\n",
    "print(f\"4th number is {num4}\")\n",
    "\n",
    "if num1>num2:\n",
    "    f1 = num1\n",
    "else:\n",
    "    f1 = num2\n",
    "\n",
    "if num3>num4:\n",
    "    f2 = num3\n",
    "else:\n",
    "    f2 = num4\n",
    "\n",
    "\n",
    "if f1>f2:\n",
    "    print(str(f1)+\" is the greatest of all.\")\n",
    "else: \n",
    "    print(str(f2)+\" is the greatest of all.\")   \n",
    "\n",
    "        "
   ]
  },
  {
   "cell_type": "code",
   "execution_count": 21,
   "metadata": {},
   "outputs": [
    {
     "name": "stdout",
     "output_type": "stream",
     "text": [
      "YOU PASSED\n"
     ]
    }
   ],
   "source": [
    "#chapter 6 pr 2\n",
    "sub1  = int(input(\"Enter the marks of sub1: \"))\n",
    "sub2  = int(input(\"Enter the marks of sub2: \"))\n",
    "sub3  = int(input(\"Enter the marks of sub3: \"))\n",
    "\n",
    "if sub1<33 and sub2<33 and sub3<33: \n",
    "    print(\"YOU ARE FAILED!\")\n",
    "\n",
    "elif (((sub1+sub2+sub3)/3)<= 40):\n",
    "    print(\"YOU PASSED\") \n"
   ]
  },
  {
   "cell_type": "code",
   "execution_count": 31,
   "metadata": {},
   "outputs": [
    {
     "name": "stdout",
     "output_type": "stream",
     "text": [
      "SPAMMER DETECTED !\n"
     ]
    }
   ],
   "source": [
    "#chapter 6 pr 3\n",
    "comment = input(\"Comment: \")\n",
    "if \"make a lot of money\" in comment:\n",
    "    print(\"SPAMMER DETECTED !\")\n",
    "elif \"buy now\" in comment:\n",
    "    print(\"SPAMMER DETECTED !\")\n",
    "elif \"subscribe this\" in comment:\n",
    "    print(\"SPAMMER DETECTED !\")\n",
    "elif \"click this\" in comment:\n",
    "    print(\"SPAMMER DETECTED !\")\n",
    "\n",
    "else:\n",
    "    print(comment)\n",
    "\n",
    "# spam = str([\"make a lot of money\",\"buy now!\",\"subscribe this\",\"click this!\"])\n",
    "# comment = input(\"Comment: \")\n",
    "# if spam in comment:\n",
    "#     print(\"SPAMMER DETECTED!\")\n",
    "# else:\n",
    "#     print(comment)"
   ]
  },
  {
   "cell_type": "code",
   "execution_count": 35,
   "metadata": {},
   "outputs": [
    {
     "name": "stdout",
     "output_type": "stream",
     "text": [
      "asdfghjkll\n",
      "10 CHARACTERS\n"
     ]
    }
   ],
   "source": [
    "#chapter 6 pr 4\n",
    "username = input(\"Enter your name: \")\n",
    "if len(username)<10:\n",
    "    print(username)\n",
    "    print(\"LESS THAN 10 CHARACTERS\")\n",
    "elif len(username)>10:\n",
    "    print(username)\n",
    "    print(\"MORE THAN 10 CHARACTERS\")\n",
    "else:\n",
    "    print(username)\n",
    "    print(\"10 CHARACTERS\")"
   ]
  },
  {
   "cell_type": "code",
   "execution_count": 41,
   "metadata": {},
   "outputs": [
    {
     "name": "stdout",
     "output_type": "stream",
     "text": [
      "AaYuSh is Present in the list\n"
     ]
    }
   ],
   "source": [
    "#chapter 6 pr 5\n",
    "lst = str([\"Marmik\",\"krish\",\"kavya\",\"mahi\",\"aayush\"])\n",
    "username = input(\"Enter name: \") \n",
    "if username.lower() in lst.lower():\n",
    "    print(f\"{username} is Present in the list\")\n",
    "else:\n",
    "    print(f\"{username} is NOT Present in the list\")\n",
    "\n"
   ]
  },
  {
   "cell_type": "code",
   "execution_count": 48,
   "metadata": {},
   "outputs": [
    {
     "name": "stdout",
     "output_type": "stream",
     "text": [
      "78\n",
      "B\n"
     ]
    }
   ],
   "source": [
    "#chapter 6 pr 6\n",
    "#convert marks to grades\n",
    "# 90-100 = EX\n",
    "# 80-89 = A\n",
    "# 70-79 = B\n",
    "# 60-69 =and\n",
    "# 50-59 = D\n",
    "# <50 = F\n",
    "\n",
    "marks = int(input(\"Marks: \"))\n",
    "print(marks)\n",
    "if marks>=90 :\n",
    "    print(\"EX\")\n",
    "elif marks>=80 :\n",
    "    print(\"A\")\n",
    "elif marks>=70 :\n",
    "    print(\"B\")\n",
    "elif marks>=60 :\n",
    "    print(\"C\")\n",
    "elif marks>=50 :\n",
    "    print(\"D\")\n",
    "elif marks<50:\n",
    "    print(\"F\")\n"
   ]
  },
  {
   "cell_type": "code",
   "execution_count": 50,
   "metadata": {},
   "outputs": [
    {
     "name": "stdout",
     "output_type": "stream",
     "text": [
      "lalal HaRrY\n",
      "THIS POST IS TALKING ABOUT HARRY\n"
     ]
    }
   ],
   "source": [
    "#chapter 6 pr 7\n",
    "post = input(\"Post Something: \")\n",
    "a = \"harry\"\n",
    "if a.lower() in post.lower():\n",
    "    print(post)\n",
    "    print(\"THIS POST IS TALKING ABOUT HARRY\")\n",
    "else:\n",
    "    print(post)\n",
    "    print(\"THIS POST IS NOT TALKING ABOUT HARRY\")"
   ]
  },
  {
   "cell_type": "code",
   "execution_count": 56,
   "metadata": {},
   "outputs": [
    {
     "name": "stdout",
     "output_type": "stream",
     "text": [
      "12 X 1 = 12\n",
      "12 X 2 = 24\n",
      "12 X 3 = 36\n",
      "12 X 4 = 48\n",
      "12 X 5 = 60\n",
      "12 X 6 = 72\n",
      "12 X 7 = 84\n",
      "12 X 8 = 96\n",
      "12 X 9 = 108\n",
      "12 X 10 = 120\n"
     ]
    }
   ],
   "source": [
    "#chapter 7 pr 1\n",
    "num = int(input(\"Enter the Table you want: \"))\n",
    "for i in range(1,11):\n",
    "    print(f\"{num} X {i} = {num*i}\")"
   ]
  },
  {
   "cell_type": "code",
   "execution_count": 66,
   "metadata": {},
   "outputs": [
    {
     "name": "stdout",
     "output_type": "stream",
     "text": [
      "Good evening! Soham\n",
      "Good evening! Sachin\n"
     ]
    }
   ],
   "source": [
    "#chapter 7 pr 2\n",
    "l1 = [\"Harry\", \"Soham\", \"Sachin\", \"Rahul\"]\n",
    "for name in l1:\n",
    "    if name.startswith(\"S\"):\n",
    "        print(\"Good evening! \" + name)"
   ]
  },
  {
   "cell_type": "code",
   "execution_count": 68,
   "metadata": {},
   "outputs": [
    {
     "name": "stdout",
     "output_type": "stream",
     "text": [
      "7 X 1 = 7\n",
      "7 X 2 = 14\n",
      "7 X 3 = 21\n",
      "7 X 4 = 28\n",
      "7 X 5 = 35\n",
      "7 X 6 = 42\n",
      "7 X 7 = 49\n",
      "7 X 8 = 56\n",
      "7 X 9 = 63\n",
      "7 X 10 = 70\n"
     ]
    }
   ],
   "source": [
    "#chapter 7 pr 3\n",
    "num = int(input(\"Enter the Table you want: \"))\n",
    "i = 1 \n",
    "while i<11:\n",
    "    print(f\"{num} X {i} = {num*i}\")\n",
    "    i = i+1"
   ]
  },
  {
   "cell_type": "code",
   "execution_count": 75,
   "metadata": {},
   "outputs": [
    {
     "name": "stdout",
     "output_type": "stream",
     "text": [
      "1\n",
      "NOT PRIME\n",
      "1\n",
      "PRIME\n"
     ]
    }
   ],
   "source": [
    "#chapter 7 pr 4 (1)\n",
    "num = int(input(\"Enter the NUM you want: \"))\n",
    "prime = True\n",
    "if num<2:\n",
    "    print(num)\n",
    "    print(\"NOT PRIME\")\n",
    "    \n",
    "else:\n",
    "    for i in range(2,num):\n",
    "        if num%i==0:\n",
    "         prime = False\n",
    "         break\n",
    "        \n",
    "        \n",
    "if prime:\n",
    "    print(num)\n",
    "    print(\"PRIME\")\n",
    "else:\n",
    "    print(num)\n",
    "    print(\"NOT PRIME\")\n",
    "\n",
    "\n",
    "\n",
    "\n",
    "\n"
   ]
  },
  {
   "cell_type": "code",
   "execution_count": 96,
   "metadata": {},
   "outputs": [
    {
     "name": "stdout",
     "output_type": "stream",
     "text": [
      "23\n",
      "PRIME\n"
     ]
    }
   ],
   "source": [
    "#chapter 7 pr 4 (2)correct way \n",
    "num = int(input(\"Enter the NUM you want: \"))\n",
    "\n",
    "if num<2:\n",
    "    print(num)\n",
    "    print(\"NOT PRIME\")\n",
    "elif num==2 :\n",
    "        print(num)\n",
    "        print(\"PRIME\")\n",
    "    \n",
    "else:\n",
    "    for i in range(2,num):\n",
    "        if num%i==0:\n",
    "            print(num)\n",
    "            print(\"NOT PRIME\")\n",
    "            break\n",
    "        \n",
    "    else:\n",
    "        print(num)\n",
    "        print(\"PRIME\")\n",
    "        \n",
    "        \n"
   ]
  },
  {
   "cell_type": "code",
   "execution_count": 100,
   "metadata": {},
   "outputs": [
    {
     "name": "stdout",
     "output_type": "stream",
     "text": [
      "55\n"
     ]
    }
   ],
   "source": [
    "#chapter 7 pr 5\n",
    "\n",
    "n = int(input(\"Enter how many natural numbers sum you want: \"))\n",
    "sum1 = 0 \n",
    "while n>0:\n",
    "    sum1 = sum1 + n\n",
    "    n = n-1\n",
    "print(sum1)\n"
   ]
  },
  {
   "cell_type": "code",
   "execution_count": null,
   "metadata": {},
   "outputs": [],
   "source": [
    "#chapter 7 pr 6\n",
    "num = int(input(\"Enter your number: \"))\n",
    "factorial = 1\n",
    "for i in range(1, num+1):\n",
    "    factorial = factorial * i\n",
    "print(f\"The factorial of {num} is {factorial}\") "
   ]
  },
  {
   "cell_type": "code",
   "execution_count": 102,
   "metadata": {},
   "outputs": [
    {
     "name": "stdout",
     "output_type": "stream",
     "text": [
      "  *  \n",
      " *** \n",
      "*****\n"
     ]
    }
   ],
   "source": [
    "#chapter 7 pr 7\n",
    "\n",
    "\n",
    "'''  *\n",
    "   * * *\n",
    " * * * * * '''\n",
    "n = 3 #three rows\n",
    "for i in range(3):\n",
    "    print(\" \" * (n-i-1), end =\"\")\n",
    "    print(\"*\" * (2*i+1), end =\"\")#middle stars\n",
    "    print(\" \" * (n-i-1))\n",
    "\n",
    "#also ,end=\"\" will help removing extra spaces in the loop\n"
   ]
  },
  {
   "cell_type": "code",
   "execution_count": null,
   "metadata": {},
   "outputs": [],
   "source": [
    "#chapter 7 pr 8\n",
    "#print the following star pattern\n",
    "\n",
    "'''*\n",
    "   **\n",
    "   ***\n",
    "   ****'''\n",
    "\n",
    "n = 4 # four rows\n",
    "for i in range(4):#loop runs fou times from 0 to 1\n",
    "    print(\"*\" * (i+1)) # i = 0, -> \n",
    "    # 0+1= 1 i.e. 1 star\n",
    "    # 1+1 = 2 star\n",
    "    # 2+1 = 3 star\n",
    "    # 3+1 = 4 star"
   ]
  },
  {
   "cell_type": "code",
   "execution_count": null,
   "metadata": {},
   "outputs": [],
   "source": [
    "#chapter 7 pr 9\n",
    "'''***\n",
    "   * *\n",
    "   ***'''\n",
    "\n",
    "n = 3\n",
    "for i in range(n):# i = rows\n",
    " for j in range(n): # j = columns\n",
    "    print(\"*\", end=\" \")\n",
    " print()\n",
    "    "
   ]
  },
  {
   "cell_type": "code",
   "execution_count": 105,
   "metadata": {},
   "outputs": [
    {
     "name": "stdout",
     "output_type": "stream",
     "text": [
      "2 X 10 = 20\n",
      "2 X 9 = 18\n",
      "2 X 8 = 16\n",
      "2 X 7 = 14\n",
      "2 X 6 = 12\n",
      "2 X 5 = 10\n",
      "2 X 4 = 8\n",
      "2 X 3 = 6\n",
      "2 X 2 = 4\n",
      "2 X 1 = 2\n"
     ]
    }
   ],
   "source": [
    "#chapter 7 pr 10\n",
    "num = int(input(\"Enter the Table you want: \"))\n",
    "for i in range(10,0,-1):\n",
    "    print(f\"{num} X {i} = {num*i}\")"
   ]
  },
  {
   "cell_type": "code",
   "execution_count": 109,
   "metadata": {},
   "outputs": [
    {
     "name": "stdout",
     "output_type": "stream",
     "text": [
      "900 is greatest\n"
     ]
    }
   ],
   "source": [
    "#chapter 8 pr 1\n",
    "def greatest(num1,num2,num3):\n",
    "    if num1>num3:\n",
    "        if num1>num2:\n",
    "            print(f\"{num1} is greatest\")\n",
    "        else:\n",
    "            print(f\"{num2} is greatest\")\n",
    "    elif num2>num3:\n",
    "        if num2>num1:\n",
    "            print(f\"{num2} is greatest\")\n",
    "        else:\n",
    "            print(f\"{num1} is greatest\")\n",
    "    else:\n",
    "        print(f\"{num3} is greatest\")\n",
    "\n",
    "greatest(201,202,900)\n",
    "           "
   ]
  },
  {
   "cell_type": "code",
   "execution_count": 112,
   "metadata": {},
   "outputs": [
    {
     "name": "stdout",
     "output_type": "stream",
     "text": [
      "212.0 farenheit\n"
     ]
    }
   ],
   "source": [
    "#chapter 8 pr 2\n",
    "\n",
    "def farenheit(celcius):\n",
    "    return (celcius * (9/5))+32\n",
    "print(farenheit(100),\"farenheit\")    "
   ]
  },
  {
   "cell_type": "code",
   "execution_count": 113,
   "metadata": {},
   "outputs": [
    {
     "name": "stdout",
     "output_type": "stream",
     "text": [
      "hello how are you "
     ]
    }
   ],
   "source": [
    "#chapter 8 pr 3\n",
    "'''print(\"hello\") \n",
    "print(\"how\")# prints in a new line \n",
    "print(\"are\")# prints in  a new line \n",
    "print(\"you\")# prints in  a new line '''\n",
    "\n",
    "\n",
    "print(\"hello\", end=\" \") \n",
    "print(\"how\", end=\" \")\n",
    "print(\"are\", end=\" \")\n",
    "print(\"you\", end=\" \")"
   ]
  },
  {
   "cell_type": "code",
   "execution_count": 118,
   "metadata": {},
   "outputs": [
    {
     "data": {
      "text/plain": [
       "55"
      ]
     },
     "execution_count": 118,
     "metadata": {},
     "output_type": "execute_result"
    }
   ],
   "source": [
    "#chapter 8 pr 4 recursive\n",
    "#sum(n)= sum(n-1)+n\n",
    "def snatural(n):\n",
    "    if n==0:\n",
    "      return 0\n",
    "    return snatural(n-1) + n\n",
    "    \n",
    "snatural(10)"
   ]
  },
  {
   "cell_type": "code",
   "execution_count": 123,
   "metadata": {},
   "outputs": [
    {
     "name": "stdout",
     "output_type": "stream",
     "text": [
      "***\n",
      "**\n",
      "*\n"
     ]
    }
   ],
   "source": [
    "#chapter 8 pr 5\n",
    "'''***\n",
    "   **\n",
    "   *'''\n",
    "   #harrys way\n",
    "n = 3\n",
    "for i in range(n):\n",
    "     print(\"*\"*(n-i))"
   ]
  },
  {
   "cell_type": "code",
   "execution_count": 122,
   "metadata": {},
   "outputs": [
    {
     "name": "stdout",
     "output_type": "stream",
     "text": [
      " 1 inch = 2.54 centimetres\n"
     ]
    }
   ],
   "source": [
    "#chapter 8 pr 6\n",
    "inch1  = int(input(\"Enter inches: \"))\n",
    "def cms(inch):\n",
    "    return inch * 2.54\n",
    "print(f\" {inch1} inch = {cms(inch1)} centimetres\")"
   ]
  },
  {
   "cell_type": "code",
   "execution_count": 125,
   "metadata": {},
   "outputs": [
    {
     "name": "stdout",
     "output_type": "stream",
     "text": [
      "Marmik soni  the best.\n"
     ]
    }
   ],
   "source": [
    "'''chapter 8 pr 7\n",
    "'''\n",
    "# def rem_and_strip(string, word): #funtion usage pattern string followed by a word\n",
    "#     newstr = string.replace(word,\"\")\n",
    "#     return newstr.strip() #strips 'string' as it is inside newstr\n",
    "# this = \"    marmik is good     \" \n",
    "# print(rem_and_strip(this, \"marmik\")) # rem_and_strip(string,word) and word will\n",
    "# #be replaced by \"\"/blank\n",
    "\n",
    "def rem_and_strip(string,word):\n",
    "    newstr = string.replace(word,\"\")\n",
    "    return newstr.strip()\n",
    "\n",
    "strng = \"  Marmik soni is the best.   \"\n",
    "print(rem_and_strip(strng, \"is\"))\n"
   ]
  },
  {
   "cell_type": "code",
   "execution_count": 126,
   "metadata": {},
   "outputs": [
    {
     "name": "stdout",
     "output_type": "stream",
     "text": [
      "5 X 1 = 5\n",
      "5 X 2 = 10\n",
      "5 X 3 = 15\n",
      "5 X 4 = 20\n",
      "5 X 5 = 25\n",
      "5 X 6 = 30\n",
      "5 X 7 = 35\n",
      "5 X 8 = 40\n",
      "5 X 9 = 45\n",
      "5 X 10 = 50\n"
     ]
    }
   ],
   "source": [
    "'''chapter 8 pr 8'''\n",
    "\n",
    "def table(num):\n",
    "    for i in range(1,11):\n",
    "        print(f\"{num} X {i} = {num*i}\")\n",
    "\n",
    "table(5)"
   ]
  },
  {
   "cell_type": "code",
   "execution_count": 23,
   "metadata": {},
   "outputs": [
    {
     "name": "stdout",
     "output_type": "stream",
     "text": [
      "21\n"
     ]
    }
   ],
   "source": [
    "'''practice of ch 9 read write file'''\n",
    "# a = open('sample.txt','r')\n",
    "# data = a.read()\n",
    "# print(data)\n",
    "# a.close()\n",
    "\n",
    "\n",
    "# a = open('sample.txt')\n",
    "\n",
    "# data = a.readline()\n",
    "# print(data)\n",
    "\n",
    "# data = a.readline()\n",
    "# print(data)\n",
    "\n",
    "# data = a.readline()\n",
    "# print(data)\n",
    "\n",
    "# data = a.readline()\n",
    "# print(data)\n",
    "\n",
    "# data = a.readline()\n",
    "# print(data)\n",
    "\n",
    "# data = a.readline()\n",
    "# print(data)\n",
    "\n",
    "# a.close()\n",
    "\n",
    "\n",
    "# a = open('another.txt','w')\n",
    "# a.write(\"Marmik soni  is a legend\")\n",
    "# a.close()\n",
    "\n",
    "\n",
    "# a = open('another.txt','a')\n",
    "# a.write(\" marmik soni lalalal\")\n",
    "# a.close()\n",
    "\n",
    "# with open('another.txt','r') as f:\n",
    "#     a = f.read()\n",
    "# print(a)\n",
    "\n",
    "# with open('another.txt','a') as f:\n",
    "#     a = f.write(\"appending (with func)\")\n",
    "# print(a) "
   ]
  },
  {
   "cell_type": "code",
   "execution_count": 27,
   "metadata": {},
   "outputs": [
    {
     "name": "stdout",
     "output_type": "stream",
     "text": [
      "Twinkle is present\n"
     ]
    }
   ],
   "source": [
    "'''chapter 9 pr 1'''\n",
    "with open('poem.txt','r') as f:\n",
    "    data = f.read()\n",
    "    if \"twinkle\" in data:\n",
    "        print(\"Twinkle is present\")\n",
    "    else:\n",
    "        print(\"Not present\")\n",
    "f.close()"
   ]
  },
  {
   "cell_type": "code",
   "execution_count": 13,
   "metadata": {},
   "outputs": [
    {
     "name": "stdout",
     "output_type": "stream",
     "text": [
      "28 NEW HIGHSCORE !\n"
     ]
    }
   ],
   "source": [
    "'''chapter 9 pr 2'''\n",
    "import random\n",
    "n = random.randint(1,50)\n",
    "def game():\n",
    "    return n \n",
    "score  = game()\n",
    "\n",
    "\n",
    "with open('hiscore.txt','r') as f:\n",
    "    highscore = f.read()\n",
    "\n",
    "if highscore ==\"\":\n",
    "    with open('hiscore.txt','w') as f:\n",
    "      highscore = f.write(str(score))\n",
    "      print(score, \"NEW HIGHSCORE !\")\n",
    "    \n",
    "elif int(highscore)<score:\n",
    "    with open('hiscore.txt','w') as f:\n",
    "        highscore = f.write(str(score))\n",
    "        print(score,\"NEW HIGHSCORE !\")\n",
    "\n",
    "else:\n",
    "    print(f\"{score},highscore was not reached.\")\n"
   ]
  },
  {
   "cell_type": "code",
   "execution_count": null,
   "metadata": {},
   "outputs": [],
   "source": []
  }
 ],
 "metadata": {
  "kernelspec": {
   "display_name": "Python 3.10.6 64-bit",
   "language": "python",
   "name": "python3"
  },
  "language_info": {
   "codemirror_mode": {
    "name": "ipython",
    "version": 3
   },
   "file_extension": ".py",
   "mimetype": "text/x-python",
   "name": "python",
   "nbconvert_exporter": "python",
   "pygments_lexer": "ipython3",
   "version": "3.10.6"
  },
  "orig_nbformat": 4,
  "vscode": {
   "interpreter": {
    "hash": "d3e10ef16274dd72e574b8fa73b58450b957d8421a2901baded3cca26fcf5dda"
   }
  }
 },
 "nbformat": 4,
 "nbformat_minor": 2
}
